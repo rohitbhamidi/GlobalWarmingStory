{
 "cells": [
  {
   "cell_type": "code",
   "execution_count": 56,
   "metadata": {},
   "outputs": [],
   "source": [
    "import pandas as pd\n",
    "import numpy as np\n",
    "import matplotlib.pyplot as plt\n",
    "from matplotlib.ticker import MultipleLocator\n",
    "import ipywidgets as widgets\n",
    "from IPython.display import display\n",
    "\n",
    "from sklearn.model_selection import train_test_split\n",
    "from sklearn.preprocessing import StandardScaler\n",
    "from sklearn.linear_model import LinearRegression\n",
    "from sklearn.metrics import mean_squared_error, r2_score\n",
    "\n",
    "plt.style.use('ggplot')"
   ]
  },
  {
   "attachments": {},
   "cell_type": "markdown",
   "metadata": {},
   "source": [
    "# **Cleaning the Data**\n",
    "\n",
    "The first dataset I have loaded is from the GISS Surface Temperature Analysis version 4 (GISTEMP v4), an estimate of global surface temperature change. The values under each month column are the monthly mean deviation from an average value. For each month, the average value is simply the mean of the monthly average temperatures from the years 1951 to 1980. \n",
    "\n",
    "The second dataset is the PRIMAP-hist national historical emissions time series (1750-2021)."
   ]
  },
  {
   "attachments": {},
   "cell_type": "markdown",
   "metadata": {},
   "source": [
    "## **GISS Data**"
   ]
  },
  {
   "cell_type": "code",
   "execution_count": 2,
   "metadata": {},
   "outputs": [],
   "source": [
    "gw_temp_df = pd.read_csv('./GLB.Ts+dSST.csv', sep='\\t')"
   ]
  },
  {
   "cell_type": "code",
   "execution_count": 3,
   "metadata": {},
   "outputs": [],
   "source": [
    "column_names = gw_temp_df.iloc[0].str.split(',').explode().tolist()\n",
    "new_df = pd.DataFrame(columns=column_names)"
   ]
  },
  {
   "cell_type": "code",
   "execution_count": 4,
   "metadata": {},
   "outputs": [],
   "source": [
    "data_df = gw_temp_df.iloc[1:]\n",
    "\n",
    "for index, row in data_df.iterrows():\n",
    "    raw_data = row.str.split(',').explode().tolist()\n",
    "    raw_data_df = pd.DataFrame([raw_data], columns=new_df.columns)\n",
    "    new_df = pd.concat([new_df, raw_data_df], ignore_index=True)"
   ]
  },
  {
   "cell_type": "code",
   "execution_count": 5,
   "metadata": {},
   "outputs": [],
   "source": [
    "new_df = new_df[new_df['Year'] < '2023']\n",
    "new_df = new_df.replace('***', np.nan)"
   ]
  },
  {
   "cell_type": "code",
   "execution_count": 6,
   "metadata": {},
   "outputs": [],
   "source": [
    "new_df.Year = new_df.Year.astype('int')"
   ]
  },
  {
   "cell_type": "code",
   "execution_count": 7,
   "metadata": {},
   "outputs": [],
   "source": [
    "float_cols = [col for col in new_df.columns if col != 'Year']\n",
    "for col in float_cols:\n",
    "    new_df[col] = new_df[col].astype('float')"
   ]
  },
  {
   "cell_type": "code",
   "execution_count": 8,
   "metadata": {},
   "outputs": [],
   "source": [
    "monthly_data = new_df.iloc[:,0:13]"
   ]
  },
  {
   "attachments": {},
   "cell_type": "markdown",
   "metadata": {},
   "source": [
    "## **Historical Greenhouse Gas Emission Data**"
   ]
  },
  {
   "cell_type": "code",
   "execution_count": 9,
   "metadata": {},
   "outputs": [],
   "source": [
    "ghg_raw_df = pd.read_csv('./Guetschow-et-al-2023a-PRIMAP-hist_v2.4.2_final_09-Mar-2023.csv')"
   ]
  },
  {
   "cell_type": "code",
   "execution_count": 10,
   "metadata": {},
   "outputs": [],
   "source": [
    "cols_to_keep = [col for col in ghg_raw_df.columns if col not in ['source', 'scenario (PRIMAP-hist)', 'unit', 'category (IPCC2006_PRIMAP)']]\n",
    "ghg_filtered_df = ghg_raw_df[cols_to_keep]"
   ]
  },
  {
   "cell_type": "code",
   "execution_count": 11,
   "metadata": {},
   "outputs": [
    {
     "name": "stderr",
     "output_type": "stream",
     "text": [
      "/var/folders/3s/6yq71yf16yq1y9c5zlss3syc0000gn/T/ipykernel_49219/1526667985.py:1: FutureWarning: The default value of numeric_only in DataFrameGroupBy.sum is deprecated. In a future version, numeric_only will default to False. Either specify numeric_only or select only columns which should be valid for the function.\n",
      "  ghg_grouped = ghg_filtered_df.groupby('entity').sum()\n"
     ]
    }
   ],
   "source": [
    "ghg_grouped = ghg_filtered_df.groupby('entity').sum()\n",
    "ghg_grouped.reset_index(inplace=True)"
   ]
  },
  {
   "cell_type": "code",
   "execution_count": 12,
   "metadata": {},
   "outputs": [],
   "source": [
    "melted_df = ghg_grouped.melt(id_vars=['entity'], var_name='Year', value_name='Value')\n",
    "reshaped_df = melted_df.pivot(index='Year', columns='entity', values='Value')\n",
    "ghg_df = reshaped_df.reset_index()"
   ]
  },
  {
   "cell_type": "code",
   "execution_count": 13,
   "metadata": {},
   "outputs": [],
   "source": [
    "ghg_df.Year = ghg_df.Year.astype('int')"
   ]
  },
  {
   "attachments": {},
   "cell_type": "markdown",
   "metadata": {},
   "source": [
    "## **Merging the two dataframes**"
   ]
  },
  {
   "cell_type": "code",
   "execution_count": 14,
   "metadata": {},
   "outputs": [],
   "source": [
    "ghg_limited = ghg_df[ghg_df['Year']>1879]\n",
    "monthly_limited = monthly_data[monthly_data['Year']<2022]"
   ]
  },
  {
   "cell_type": "code",
   "execution_count": 15,
   "metadata": {},
   "outputs": [],
   "source": [
    "full_ghg_anomaly_df = pd.merge(ghg_limited, monthly_limited, how='outer', on='Year')"
   ]
  },
  {
   "attachments": {},
   "cell_type": "markdown",
   "metadata": {},
   "source": [
    "# **Are Temperatures Rising?**\n",
    "\n",
    "Here, I wish to explore a simple narrative- is the globe getting hotter?\n",
    "The first thing that I would have to do is check the distributions and trends in my temperature data."
   ]
  },
  {
   "cell_type": "code",
   "execution_count": 40,
   "metadata": {},
   "outputs": [
    {
     "data": {
      "application/vnd.jupyter.widget-view+json": {
       "model_id": "34c1ac1c8d944bc0b4525bfcb0c46792",
       "version_major": 2,
       "version_minor": 0
      },
      "text/plain": [
       "Dropdown(description='Select Month:', options=('Jan', 'Feb', 'Mar', 'Apr', 'May', 'Jun', 'Jul', 'Aug', 'Sep', …"
      ]
     },
     "metadata": {},
     "output_type": "display_data"
    },
    {
     "data": {
      "application/vnd.jupyter.widget-view+json": {
       "model_id": "6731b0b6de4c4fe186088271ab08e61b",
       "version_major": 2,
       "version_minor": 0
      },
      "text/plain": [
       "Output()"
      ]
     },
     "metadata": {},
     "output_type": "display_data"
    }
   ],
   "source": [
    "def update_histogram(selected_month):\n",
    "    plt.figure(figsize=(8, 6))\n",
    "    plt.hist(monthly_data[selected_month], bins='auto')\n",
    "    plt.title(f'Temperature Anomaly Histogram for {selected_month}')\n",
    "    plt.xlabel('Temperature Anomaly')\n",
    "    plt.ylabel('Frequency')\n",
    "    plt.grid(True)\n",
    "    plt.show()\n",
    "\n",
    "\n",
    "month_columns = monthly_data.columns[1:]\n",
    "month_selector = widgets.Dropdown(\n",
    "    options=month_columns,\n",
    "    description='Select Month:',\n",
    "    disabled=False\n",
    ")\n",
    "\n",
    "output_plot = widgets.Output()\n",
    "\n",
    "def on_month_change(change):\n",
    "    selected_month = change.new\n",
    "    with output_plot:\n",
    "        output_plot.clear_output()\n",
    "        update_histogram(selected_month)\n",
    "\n",
    "month_selector.observe(on_month_change, names='value')\n",
    "\n",
    "display(month_selector)\n",
    "display(output_plot)"
   ]
  },
  {
   "attachments": {},
   "cell_type": "markdown",
   "metadata": {},
   "source": [
    "From this plot, we can see that for most months, the temperature anomalies are centered around 0. However, there seem to be a long tail of the distributions to the right side of 0, which we can assume indicates that there have been more extreme hot years (i.e. temperature anomaly > 0) than there have been extreme cool years. Let us see if we can find any patterns if we plot the data across a whole year."
   ]
  },
  {
   "cell_type": "code",
   "execution_count": 41,
   "metadata": {},
   "outputs": [
    {
     "data": {
      "application/vnd.jupyter.widget-view+json": {
       "model_id": "da1bcaa990d74b94ae55a7ce77054b32",
       "version_major": 2,
       "version_minor": 0
      },
      "text/plain": [
       "Dropdown(description='Select Year:', options=(1880, 1881, 1882, 1883, 1884, 1885, 1886, 1887, 1888, 1889, 1890…"
      ]
     },
     "metadata": {},
     "output_type": "display_data"
    },
    {
     "data": {
      "application/vnd.jupyter.widget-view+json": {
       "model_id": "6401de1690d34deda37eac68f61d484d",
       "version_major": 2,
       "version_minor": 0
      },
      "text/plain": [
       "Output()"
      ]
     },
     "metadata": {},
     "output_type": "display_data"
    }
   ],
   "source": [
    "def update_line_plot(selected_year):\n",
    "    plt.figure(figsize=(8, 6))\n",
    "    selected_data = monthly_data[monthly_data['Year'] == selected_year].iloc[0, 1:]\n",
    "    plt.plot(month_columns, selected_data, marker='o')\n",
    "    plt.axhline(y=0, color='blue', linestyle='--', label='anomaly=0')\n",
    "    plt.title(f'Temperature Anomaly vs. Month for {selected_year}')\n",
    "    plt.xlabel('Month')\n",
    "    plt.ylabel('Temperature Anomaly')\n",
    "    plt.grid(True)\n",
    "    plt.show()\n",
    "\n",
    "year_selector = widgets.Dropdown(\n",
    "    options=monthly_data['Year'].values,\n",
    "    description='Select Year:',\n",
    "    disabled=False\n",
    ")\n",
    "\n",
    "output_plot = widgets.Output()\n",
    "\n",
    "def on_year_change(change):\n",
    "    selected_year = change.new\n",
    "    with output_plot:\n",
    "        output_plot.clear_output()\n",
    "        update_line_plot(selected_year)\n",
    "\n",
    "year_selector.observe(on_year_change, names='value')\n",
    "\n",
    "display(year_selector)\n",
    "display(output_plot)"
   ]
  },
  {
   "attachments": {},
   "cell_type": "markdown",
   "metadata": {},
   "source": [
    "We can scroll through the years to see how the temperature anomaly changes with time. As we can see:\n",
    "* There doesn't seem to be any common shape for the graph on a year to year basis.\n",
    "* The anomaly starts off below the dashed blue line, for most years between the starting year of 1880 and the years which are used to define the anomaly between 1951 and 1980. \n",
    "* Moving forward, the anomaly starts living more and more above the dashed blue line.\n",
    "\n",
    "We can quantify this a bit more by calculating the yearly average anomaly, and plotting how that has changed over the years. To calculate this, we will take the average anomaly for each month and calculate the mean. Doing this for each year will give us a series of values we can plot."
   ]
  },
  {
   "cell_type": "code",
   "execution_count": 37,
   "metadata": {},
   "outputs": [],
   "source": [
    "months = ['Jan', 'Feb', 'Mar', 'Apr', 'May', 'Jun','Jul', 'Aug', 'Sep', 'Oct', 'Nov', 'Dec']\n",
    "full_ghg_anomaly_df['yearly_avg_anomaly'] = full_ghg_anomaly_df[months].apply(lambda row: row.mean(), axis=1)"
   ]
  },
  {
   "cell_type": "code",
   "execution_count": 39,
   "metadata": {},
   "outputs": [
    {
     "data": {
      "image/png": "[encoded data removed]",
      "text/plain": [
       "<Figure size 640x480 with 1 Axes>"
      ]
     },
     "metadata": {},
     "output_type": "display_data"
    }
   ],
   "source": [
    "plt.scatter(full_ghg_anomaly_df.Year, full_ghg_anomaly_df.yearly_avg_anomaly)\n",
    "plt.xlabel('Year')\n",
    "plt.ylabel('Yearly Avg. Anomaly')\n",
    "plt.title('Year vs Yearly Avg Tempearature anomaly')\n",
    "plt.show()"
   ]
  },
  {
   "attachments": {},
   "cell_type": "markdown",
   "metadata": {},
   "source": [
    "This graph clearly shows us what we have been trying to see. There is a very clear picture that the yearly average temperature anomaly is increasing with time. What can we observe about this graph?\n",
    "\n",
    "* From 1880-1915, the anomaly seems to be either holding stable or dropping a little. This could be due to the fact that in the industrialized world at the time there were no large scale wars, or other drivers of increase in manufacturing output.\n",
    "* From 1915-1945, there is a clear rise in anomaly. This can be explained as the effect of the industrial ramp-up during WW1 and WW2.\n",
    "* From 1945-1970, the anomaly seems to drop. This could be an interesting question to consider further. What happened in the postwar period? What role did decolonization play in this?\n",
    "* From 1970-present, there is a more or less straight line upwards. This can likely be explained due to the start of industrialization in the rest of the world (for example in India and China).\n",
    "\n",
    "Industrialization necessitates greater energy output to sustain production. Traditionally, coal and other fossil fuels have fulfilled this demand, but their combustion releases greenhouse gases. This raises a question: what proportion of the rising temperature anomaly can be attributed to these emissions? In the following section, I will try to answer this."
   ]
  },
  {
   "attachments": {},
   "cell_type": "markdown",
   "metadata": {},
   "source": [
    "# **Greenhouse Gas Emissions**\n",
    "\n",
    "Now that we have seen that temperatures are rising, let us check the effect of the most commonly cited source: greenhouse gas emissions. With this in mind, let us plot greenhouse gas emissions as a function of time. "
   ]
  },
  {
   "cell_type": "code",
   "execution_count": 42,
   "metadata": {},
   "outputs": [
    {
     "data": {
      "application/vnd.jupyter.widget-view+json": {
       "model_id": "87c380ffae3f435582abc270a71e5043",
       "version_major": 2,
       "version_minor": 0
      },
      "text/plain": [
       "Dropdown(description='Select gas:', options=('CH4', 'CO2', 'FGASES (AR4GWP100)', 'FGASES (SARGWP100)', 'HFCS (…"
      ]
     },
     "metadata": {},
     "output_type": "display_data"
    },
    {
     "data": {
      "application/vnd.jupyter.widget-view+json": {
       "model_id": "ae5e233fa7b24edd9d60771f77897a7a",
       "version_major": 2,
       "version_minor": 0
      },
      "text/plain": [
       "Output()"
      ]
     },
     "metadata": {},
     "output_type": "display_data"
    }
   ],
   "source": [
    "def update_line_plot(selected_col):\n",
    "    plt.figure(figsize=(8, 6))\n",
    "    y_values = ghg_df[selected_col]\n",
    "    y_units = ghg_raw_df[ghg_raw_df['entity']==selected_col].unit.iloc[0]\n",
    "    plt.plot(ghg_df['Year'], y_values)\n",
    "    plt.xticks(rotation=90)\n",
    "    plt.gca().xaxis.set_major_locator(MultipleLocator(10))  # Display every 5th x-axis tick label\n",
    "    plt.title(f'Emissions vs. Year for {selected_col}')\n",
    "    plt.xlabel('Year')\n",
    "    plt.ylabel(f'{selected_col} Emissions ({y_units})')\n",
    "    plt.grid(True)\n",
    "    plt.show()\n",
    "\n",
    "gas_columns = ghg_df.columns[1:]\n",
    "gas_selector = widgets.Dropdown(\n",
    "    options=gas_columns,\n",
    "    description='Select gas:',\n",
    "    disabled=False\n",
    ")\n",
    "\n",
    "output_plot = widgets.Output()\n",
    "\n",
    "def on_gas_change(change):\n",
    "    selected_col = change.new\n",
    "    with output_plot:\n",
    "        output_plot.clear_output()\n",
    "        update_line_plot(selected_col)\n",
    "\n",
    "gas_selector.observe(on_gas_change, names='value')\n",
    "\n",
    "display(gas_selector)\n",
    "display(output_plot)"
   ]
  },
  {
   "attachments": {},
   "cell_type": "markdown",
   "metadata": {},
   "source": [
    "## **What is driving the current rise in temperatures?**\n",
    "\n",
    "We know that at the beginning of the Industrial Revolution, the main source of energy was coal. The main greenhouse gas emitted in burning coal is CO2. This graph marks up nicely with our plots of Temperature anomaly vs Year. Let's make a scatterplot of the temperature anomaly with CO2 emissions."
   ]
  },
  {
   "cell_type": "code",
   "execution_count": 44,
   "metadata": {},
   "outputs": [
    {
     "data": {
      "text/html": [
       "<div>\n",
       "<style scoped>\n",
       "    .dataframe tbody tr th:only-of-type {\n",
       "        vertical-align: middle;\n",
       "    }\n",
       "\n",
       "    .dataframe tbody tr th {\n",
       "        vertical-align: top;\n",
       "    }\n",
       "\n",
       "    .dataframe thead th {\n",
       "        text-align: right;\n",
       "    }\n",
       "</style>\n",
       "<table border=\"1\" class=\"dataframe\">\n",
       "  <thead>\n",
       "    <tr style=\"text-align: right;\">\n",
       "      <th></th>\n",
       "      <th>Year</th>\n",
       "      <th>CH4</th>\n",
       "      <th>CO2</th>\n",
       "      <th>FGASES (AR4GWP100)</th>\n",
       "      <th>FGASES (SARGWP100)</th>\n",
       "      <th>HFCS (AR4GWP100)</th>\n",
       "      <th>HFCS (SARGWP100)</th>\n",
       "      <th>KYOTOGHG (AR4GWP100)</th>\n",
       "      <th>KYOTOGHG (SARGWP100)</th>\n",
       "      <th>N2O</th>\n",
       "      <th>...</th>\n",
       "      <th>Apr</th>\n",
       "      <th>May</th>\n",
       "      <th>Jun</th>\n",
       "      <th>Jul</th>\n",
       "      <th>Aug</th>\n",
       "      <th>Sep</th>\n",
       "      <th>Oct</th>\n",
       "      <th>Nov</th>\n",
       "      <th>Dec</th>\n",
       "      <th>yearly_avg_anomaly</th>\n",
       "    </tr>\n",
       "  </thead>\n",
       "  <tbody>\n",
       "    <tr>\n",
       "      <th>0</th>\n",
       "      <td>1880</td>\n",
       "      <td>1.240707e+06</td>\n",
       "      <td>2.021156e+07</td>\n",
       "      <td>1063.683398</td>\n",
       "      <td>935.164677</td>\n",
       "      <td>0.0</td>\n",
       "      <td>0.0</td>\n",
       "      <td>5.635959e+07</td>\n",
       "      <td>5.160544e+07</td>\n",
       "      <td>18636.252215</td>\n",
       "      <td>...</td>\n",
       "      <td>-0.16</td>\n",
       "      <td>-0.10</td>\n",
       "      <td>-0.21</td>\n",
       "      <td>-0.18</td>\n",
       "      <td>-0.10</td>\n",
       "      <td>-0.15</td>\n",
       "      <td>-0.24</td>\n",
       "      <td>-0.22</td>\n",
       "      <td>-0.18</td>\n",
       "      <td>-0.171667</td>\n",
       "    </tr>\n",
       "    <tr>\n",
       "      <th>1</th>\n",
       "      <td>1881</td>\n",
       "      <td>1.255499e+06</td>\n",
       "      <td>2.076578e+07</td>\n",
       "      <td>1063.683398</td>\n",
       "      <td>935.166677</td>\n",
       "      <td>0.0</td>\n",
       "      <td>0.0</td>\n",
       "      <td>5.735303e+07</td>\n",
       "      <td>5.255900e+07</td>\n",
       "      <td>18840.151502</td>\n",
       "      <td>...</td>\n",
       "      <td>0.05</td>\n",
       "      <td>0.06</td>\n",
       "      <td>-0.19</td>\n",
       "      <td>0.00</td>\n",
       "      <td>-0.04</td>\n",
       "      <td>-0.15</td>\n",
       "      <td>-0.22</td>\n",
       "      <td>-0.19</td>\n",
       "      <td>-0.07</td>\n",
       "      <td>-0.088333</td>\n",
       "    </tr>\n",
       "    <tr>\n",
       "      <th>2</th>\n",
       "      <td>1882</td>\n",
       "      <td>1.271582e+06</td>\n",
       "      <td>2.206157e+07</td>\n",
       "      <td>1063.685398</td>\n",
       "      <td>935.570897</td>\n",
       "      <td>0.0</td>\n",
       "      <td>0.0</td>\n",
       "      <td>5.906546e+07</td>\n",
       "      <td>5.419856e+07</td>\n",
       "      <td>19021.946052</td>\n",
       "      <td>...</td>\n",
       "      <td>-0.17</td>\n",
       "      <td>-0.15</td>\n",
       "      <td>-0.23</td>\n",
       "      <td>-0.17</td>\n",
       "      <td>-0.07</td>\n",
       "      <td>-0.15</td>\n",
       "      <td>-0.24</td>\n",
       "      <td>-0.17</td>\n",
       "      <td>-0.36</td>\n",
       "      <td>-0.114167</td>\n",
       "    </tr>\n",
       "    <tr>\n",
       "      <th>3</th>\n",
       "      <td>1883</td>\n",
       "      <td>1.288817e+06</td>\n",
       "      <td>2.351326e+07</td>\n",
       "      <td>1063.887418</td>\n",
       "      <td>935.612897</td>\n",
       "      <td>0.0</td>\n",
       "      <td>0.0</td>\n",
       "      <td>6.096004e+07</td>\n",
       "      <td>5.602516e+07</td>\n",
       "      <td>19178.649485</td>\n",
       "      <td>...</td>\n",
       "      <td>-0.18</td>\n",
       "      <td>-0.18</td>\n",
       "      <td>-0.08</td>\n",
       "      <td>-0.07</td>\n",
       "      <td>-0.14</td>\n",
       "      <td>-0.22</td>\n",
       "      <td>-0.11</td>\n",
       "      <td>-0.23</td>\n",
       "      <td>-0.11</td>\n",
       "      <td>-0.175000</td>\n",
       "    </tr>\n",
       "    <tr>\n",
       "      <th>4</th>\n",
       "      <td>1884</td>\n",
       "      <td>1.298212e+06</td>\n",
       "      <td>2.386213e+07</td>\n",
       "      <td>1064.127424</td>\n",
       "      <td>935.818897</td>\n",
       "      <td>0.0</td>\n",
       "      <td>0.0</td>\n",
       "      <td>6.157835e+07</td>\n",
       "      <td>5.664208e+07</td>\n",
       "      <td>19311.635712</td>\n",
       "      <td>...</td>\n",
       "      <td>-0.40</td>\n",
       "      <td>-0.34</td>\n",
       "      <td>-0.36</td>\n",
       "      <td>-0.30</td>\n",
       "      <td>-0.28</td>\n",
       "      <td>-0.27</td>\n",
       "      <td>-0.25</td>\n",
       "      <td>-0.34</td>\n",
       "      <td>-0.31</td>\n",
       "      <td>-0.285000</td>\n",
       "    </tr>\n",
       "  </tbody>\n",
       "</table>\n",
       "<p>5 rows × 27 columns</p>\n",
       "</div>"
      ],
      "text/plain": [
       "   Year           CH4           CO2  FGASES (AR4GWP100)  FGASES (SARGWP100)  \\\n",
       "0  1880  1.240707e+06  2.021156e+07         1063.683398          935.164677   \n",
       "1  1881  1.255499e+06  2.076578e+07         1063.683398          935.166677   \n",
       "2  1882  1.271582e+06  2.206157e+07         1063.685398          935.570897   \n",
       "3  1883  1.288817e+06  2.351326e+07         1063.887418          935.612897   \n",
       "4  1884  1.298212e+06  2.386213e+07         1064.127424          935.818897   \n",
       "\n",
       "   HFCS (AR4GWP100)  HFCS (SARGWP100)  KYOTOGHG (AR4GWP100)  \\\n",
       "0               0.0               0.0          5.635959e+07   \n",
       "1               0.0               0.0          5.735303e+07   \n",
       "2               0.0               0.0          5.906546e+07   \n",
       "3               0.0               0.0          6.096004e+07   \n",
       "4               0.0               0.0          6.157835e+07   \n",
       "\n",
       "   KYOTOGHG (SARGWP100)           N2O  ...   Apr   May   Jun   Jul   Aug  \\\n",
       "0          5.160544e+07  18636.252215  ... -0.16 -0.10 -0.21 -0.18 -0.10   \n",
       "1          5.255900e+07  18840.151502  ...  0.05  0.06 -0.19  0.00 -0.04   \n",
       "2          5.419856e+07  19021.946052  ... -0.17 -0.15 -0.23 -0.17 -0.07   \n",
       "3          5.602516e+07  19178.649485  ... -0.18 -0.18 -0.08 -0.07 -0.14   \n",
       "4          5.664208e+07  19311.635712  ... -0.40 -0.34 -0.36 -0.30 -0.28   \n",
       "\n",
       "    Sep   Oct   Nov   Dec  yearly_avg_anomaly  \n",
       "0 -0.15 -0.24 -0.22 -0.18           -0.171667  \n",
       "1 -0.15 -0.22 -0.19 -0.07           -0.088333  \n",
       "2 -0.15 -0.24 -0.17 -0.36           -0.114167  \n",
       "3 -0.22 -0.11 -0.23 -0.11           -0.175000  \n",
       "4 -0.27 -0.25 -0.34 -0.31           -0.285000  \n",
       "\n",
       "[5 rows x 27 columns]"
      ]
     },
     "execution_count": 44,
     "metadata": {},
     "output_type": "execute_result"
    }
   ],
   "source": [
    "full_ghg_anomaly_df.head()"
   ]
  },
  {
   "cell_type": "code",
   "execution_count": 46,
   "metadata": {},
   "outputs": [
    {
     "data": {
      "application/vnd.jupyter.widget-view+json": {
       "model_id": "fde9062c0dfe46168600d949792133b2",
       "version_major": 2,
       "version_minor": 0
      },
      "text/plain": [
       "Dropdown(description='Select gas:', options=('CH4', 'CO2', 'FGASES (AR4GWP100)', 'FGASES (SARGWP100)', 'HFCS (…"
      ]
     },
     "metadata": {},
     "output_type": "display_data"
    },
    {
     "data": {
      "application/vnd.jupyter.widget-view+json": {
       "model_id": "a1e37968a2934a6d9bd091bd59e53738",
       "version_major": 2,
       "version_minor": 0
      },
      "text/plain": [
       "Output()"
      ]
     },
     "metadata": {},
     "output_type": "display_data"
    }
   ],
   "source": [
    "def update_scatter_plot(selected_gas):\n",
    "    plt.scatter(full_ghg_anomaly_df[selected_gas], full_ghg_anomaly_df['yearly_avg_anomaly'], marker='o')\n",
    "    y_units = ghg_raw_df[ghg_raw_df['entity']==selected_gas].unit.iloc[0]\n",
    "    slope, intercept = np.polyfit(full_ghg_anomaly_df[selected_gas], full_ghg_anomaly_df['yearly_avg_anomaly'], 1)\n",
    "    best_fit_line = slope * ghg_limited[selected_gas] + intercept\n",
    "    plt.plot(ghg_limited[selected_gas], best_fit_line, color='blue', label=f'Line of Best Fit (Slope: {slope})')\n",
    "    plt.title(f'Yearly Temperature Anomaly vs. {selected_gas} Emissions')\n",
    "    plt.xlabel(f'{selected_gas} emissions ({y_units})')\n",
    "    plt.ylabel('Temperature Anomaly')\n",
    "    plt.legend()\n",
    "    plt.grid(True)\n",
    "    plt.show()\n",
    "\n",
    "gas_columns = ghg_df.columns[1:]\n",
    "gas_selector = widgets.Dropdown(\n",
    "    options=gas_columns,\n",
    "    description='Select gas:',\n",
    "    disabled=False\n",
    ")\n",
    "\n",
    "output_plot = widgets.Output()\n",
    "\n",
    "def on_gas_change(change):\n",
    "    selected_col = change.new\n",
    "    with output_plot:\n",
    "        output_plot.clear_output()\n",
    "        update_scatter_plot(selected_col)\n",
    "\n",
    "gas_selector.observe(on_gas_change, names='value')\n",
    "\n",
    "display(gas_selector)\n",
    "display(output_plot)"
   ]
  },
  {
   "attachments": {},
   "cell_type": "markdown",
   "metadata": {},
   "source": [
    "There seems to be a clear trend here. Rising greenhouse gas (GHG) emissions seem to correspond to rising temperature anomaly. This seems to line up well with what we know from science. Realistically, it is the concentration of GHGs in the atmosphere that trap heat from the Earth's surface from radiating back into space. This concentration of GHGs, we would expect, should be proportional to the amount of GHGs emitted over time, thus giving rise to the positive slopes in the graphs we plot above. Let us take a look at the correlation values for each of the gases/baskets of GHGs."
   ]
  },
  {
   "attachments": {},
   "cell_type": "markdown",
   "metadata": {},
   "source": [
    "## **Correlations!**"
   ]
  },
  {
   "cell_type": "code",
   "execution_count": 49,
   "metadata": {},
   "outputs": [
    {
     "name": "stdout",
     "output_type": "stream",
     "text": [
      "Correlation of CH4 emissions with temperature anomaly: 0.8988619076028566\n",
      "Correlation of CO2 emissions with temperature anomaly: 0.9240029909774532\n",
      "Correlation of FGASES (AR4GWP100) emissions with temperature anomaly: 0.9070296718217028\n",
      "Correlation of FGASES (SARGWP100) emissions with temperature anomaly: 0.9087968617492858\n",
      "Correlation of HFCS (AR4GWP100) emissions with temperature anomaly: 0.8537632706530416\n",
      "Correlation of HFCS (SARGWP100) emissions with temperature anomaly: 0.852062321824396\n",
      "Correlation of KYOTOGHG (AR4GWP100) emissions with temperature anomaly: 0.9215884939327806\n",
      "Correlation of KYOTOGHG (SARGWP100) emissions with temperature anomaly: 0.9217042419000584\n",
      "Correlation of N2O emissions with temperature anomaly: 0.8837215792227213\n",
      "Correlation of NF3 emissions with temperature anomaly: 0.7864083911461084\n",
      "Correlation of PFCS (AR4GWP100) emissions with temperature anomaly: 0.7898126695147472\n",
      "Correlation of PFCS (SARGWP100) emissions with temperature anomaly: 0.7979836298687094\n",
      "Correlation of SF6 emissions with temperature anomaly: 0.9045185070234122\n",
      "CO2 emissions have the highest correlation with yearly average anomaly, with a correlation of 0.9240029909774532\n"
     ]
    }
   ],
   "source": [
    "cols_to_check = [col for col in full_ghg_anomaly_df.columns if col not in months + ['yearly_avg_anomaly', 'Year']]\n",
    "\n",
    "highest_corr_column = None\n",
    "highest_corr_value = -1\n",
    "for col in cols_to_check:\n",
    "    corr_value = full_ghg_anomaly_df['yearly_avg_anomaly'].corr(full_ghg_anomaly_df[col])\n",
    "    print(f'Correlation of {col} emissions with temperature anomaly: {corr_value}')\n",
    "    if corr_value > highest_corr_value:\n",
    "        highest_corr_value = corr_value\n",
    "        highest_corr_column = col\n",
    "\n",
    "print(f'{highest_corr_column} emissions have the highest correlation with yearly average anomaly, with a correlation of {highest_corr_value}')"
   ]
  },
  {
   "attachments": {},
   "cell_type": "markdown",
   "metadata": {},
   "source": [
    "As we can see, all the GHG seem to have fairly strong correlation values with temperature anomaly. How much of the rise of temperature anomaly can be explained by the GHG emissions? We will use the $R^2$ metric of a simple linear model."
   ]
  },
  {
   "attachments": {},
   "cell_type": "markdown",
   "metadata": {},
   "source": [
    "## **Simple Linear Model of Anomaly and GHG emissions**"
   ]
  },
  {
   "attachments": {},
   "cell_type": "markdown",
   "metadata": {},
   "source": [
    "We will ignore the baskets of GHGs since they mostly contain the other GHGs within them."
   ]
  },
  {
   "cell_type": "code",
   "execution_count": 60,
   "metadata": {},
   "outputs": [],
   "source": [
    "gas_cols = ['CH4', 'CO2', 'N2O', 'NF3', 'SF6']\n",
    "X = full_ghg_anomaly_df[gas_cols]\n",
    "y = full_ghg_anomaly_df.yearly_avg_anomaly\n",
    "\n",
    "X_train, X_test, y_train, y_test = train_test_split(X, y, test_size=.2)\n",
    "\n",
    "scaler = StandardScaler()\n",
    "X_train_scaled = scaler.fit_transform(X_train)\n",
    "X_test_scaled = scaler.transform(X_test)"
   ]
  },
  {
   "cell_type": "code",
   "execution_count": 61,
   "metadata": {},
   "outputs": [
    {
     "name": "stdout",
     "output_type": "stream",
     "text": [
      "Mean Squared Error: 0.022957041180677436\n",
      "R-squared: 0.81700828900257\n"
     ]
    }
   ],
   "source": [
    "model = LinearRegression()\n",
    "\n",
    "model.fit(X_train_scaled, y_train)\n",
    "y_pred = model.predict(X_test_scaled)\n",
    "\n",
    "mse = mean_squared_error(y_true=y_test, y_pred=y_pred)\n",
    "r2 = r2_score(y_true=y_test, y_pred=y_pred)\n",
    "print(f\"Mean Squared Error: {mse}\")\n",
    "print(f\"R-squared: {r2}\")"
   ]
  },
  {
   "attachments": {},
   "cell_type": "markdown",
   "metadata": {},
   "source": [
    "The $R^2$ value essentially indicates how much of the variability in the yearly average temperature anomaly is explained by the GHG emissions. These metrics suggest that the linear regression model is performing well on the data, and that the GHG emissions can explain 81.7% of the variability in the yearly average temperature anomaly."
   ]
  },
  {
   "attachments": {},
   "cell_type": "markdown",
   "metadata": {},
   "source": [
    "# **Conclusions**\n",
    "\n",
    "The analysis has provided insights into the dynamics of global surface temperature change and its association with greenhouse gas emissions. \n",
    "\n",
    "We saw a consistent upward trend in the yearly average anomaly.\n",
    "\n",
    "When focusing on the role of greenhouse gas emissions, particularly CO2, we saw a strong correlation between these emissions and temperature anomalies. The data underscored the significance of CO2 as a leading contributor to the observed temperature changes. Employing a simple linear model, we saw the extent to which GHG emissions account for the variability in temperature anomalies, revealing that these emissions explain a substantial portion of the observed changes (around 81.7%)."
   ]
  },
  {
   "attachments": {},
   "cell_type": "markdown",
   "metadata": {},
   "source": [
    "# **Further Questions to Consider**\n",
    "\n",
    "* What caused the decline in temperature from around 1895 to 1915?\n",
    "* What caused the decline in temperature from around 1945 to 1970?\n",
    "* In the scatterplot of yearly average temperature anomaly vs. GHG emission, there seems to be an sinusoidal component on top of the linear component. What could explain that behavior?\n",
    "* What is the actual relationship between GHG emissions, GHG concentration in the atmosphere, and monthly temperature anomaly? Is this something that can be concretely derived from first principles?  How good is that calculation as compared to the observed values?\n",
    "* How good are some carbon negative strategies at capturing carbon-based GHGs?"
   ]
  }
 ],
 "metadata": {
  "kernelspec": {
   "display_name": "Python 3",
   "language": "python",
   "name": "python3"
  },
  "language_info": {
   "codemirror_mode": {
    "name": "ipython",
    "version": 3
   },
   "file_extension": ".py",
   "mimetype": "text/x-python",
   "name": "python",
   "nbconvert_exporter": "python",
   "pygments_lexer": "ipython3",
   "version": "3.11.1"
  },
  "orig_nbformat": 4,
  "vscode": {
   "interpreter": {
    "hash": "aee8b7b246df8f9039afb4144a1f6fd8d2ca17a180786b69acc140d282b71a49"
   }
  }
 },
 "nbformat": 4,
 "nbformat_minor": 2
}
